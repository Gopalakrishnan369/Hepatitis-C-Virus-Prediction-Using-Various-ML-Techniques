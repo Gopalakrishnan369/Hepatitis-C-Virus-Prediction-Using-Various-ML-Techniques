{
 "cells": [
  {
   "cell_type": "code",
   "execution_count": 1,
   "id": "ad1dfd34",
   "metadata": {
    "_cell_guid": "b1076dfc-b9ad-4769-8c92-a6c4dae69d19",
    "_uuid": "8f2839f25d086af736a60e9eeb907d3b93b6e0e5",
    "execution": {
     "iopub.execute_input": "2022-10-25T08:24:19.507875Z",
     "iopub.status.busy": "2022-10-25T08:24:19.507205Z",
     "iopub.status.idle": "2022-10-25T08:24:19.529180Z",
     "shell.execute_reply": "2022-10-25T08:24:19.528317Z"
    },
    "papermill": {
     "duration": 0.029292,
     "end_time": "2022-10-25T08:24:19.531213",
     "exception": false,
     "start_time": "2022-10-25T08:24:19.501921",
     "status": "completed"
    },
    "tags": []
   },
   "outputs": [
    {
     "name": "stdout",
     "output_type": "stream",
     "text": [
      "/kaggle/input/hepatitis-c-virus-blood-biomarkers/hcvdat0.csv\n"
     ]
    }
   ],
   "source": [
    "# This Python 3 environment comes with many helpful analytics libraries installed\n",
    "# It is defined by the kaggle/python Docker image: https://github.com/kaggle/docker-python\n",
    "# For example, here's several helpful packages to load\n",
    "\n",
    "import numpy as np # linear algebra\n",
    "import pandas as pd # data processing, CSV file I/O (e.g. pd.read_csv)\n",
    "\n",
    "# Input data files are available in the read-only \"../input/\" directory\n",
    "# For example, running this (by clicking run or pressing Shift+Enter) will list all files under the input directory\n",
    "\n",
    "import os\n",
    "for dirname, _, filenames in os.walk('/kaggle/input'):\n",
    "    for filename in filenames:\n",
    "        print(os.path.join(dirname, filename))\n",
    "\n",
    "# You can write up to 20GB to the current directory (/kaggle/working/) that gets preserved as output when you create a version using \"Save & Run All\" \n",
    "# You can also write temporary files to /kaggle/temp/, but they won't be saved outside of the current session"
   ]
  },
  {
   "cell_type": "code",
   "execution_count": 2,
   "id": "2305eb68",
   "metadata": {
    "execution": {
     "iopub.execute_input": "2022-10-25T08:24:19.538921Z",
     "iopub.status.busy": "2022-10-25T08:24:19.538378Z",
     "iopub.status.idle": "2022-10-25T08:24:19.587809Z",
     "shell.execute_reply": "2022-10-25T08:24:19.586485Z"
    },
    "papermill": {
     "duration": 0.055681,
     "end_time": "2022-10-25T08:24:19.589948",
     "exception": false,
     "start_time": "2022-10-25T08:24:19.534267",
     "status": "completed"
    },
    "tags": []
   },
   "outputs": [
    {
     "data": {
      "text/html": [
       "<div>\n",
       "<style scoped>\n",
       "    .dataframe tbody tr th:only-of-type {\n",
       "        vertical-align: middle;\n",
       "    }\n",
       "\n",
       "    .dataframe tbody tr th {\n",
       "        vertical-align: top;\n",
       "    }\n",
       "\n",
       "    .dataframe thead th {\n",
       "        text-align: right;\n",
       "    }\n",
       "</style>\n",
       "<table border=\"1\" class=\"dataframe\">\n",
       "  <thead>\n",
       "    <tr style=\"text-align: right;\">\n",
       "      <th></th>\n",
       "      <th>Unnamed: 0</th>\n",
       "      <th>Category</th>\n",
       "      <th>Age</th>\n",
       "      <th>Sex</th>\n",
       "      <th>ALB</th>\n",
       "      <th>ALP</th>\n",
       "      <th>ALT</th>\n",
       "      <th>AST</th>\n",
       "      <th>BIL</th>\n",
       "      <th>CHE</th>\n",
       "      <th>CHOL</th>\n",
       "      <th>CREA</th>\n",
       "      <th>GGT</th>\n",
       "      <th>PROT</th>\n",
       "    </tr>\n",
       "  </thead>\n",
       "  <tbody>\n",
       "    <tr>\n",
       "      <th>0</th>\n",
       "      <td>1</td>\n",
       "      <td>0=Blood Donor</td>\n",
       "      <td>32</td>\n",
       "      <td>m</td>\n",
       "      <td>38.5</td>\n",
       "      <td>52.5</td>\n",
       "      <td>7.7</td>\n",
       "      <td>22.1</td>\n",
       "      <td>7.5</td>\n",
       "      <td>6.93</td>\n",
       "      <td>3.23</td>\n",
       "      <td>106.0</td>\n",
       "      <td>12.1</td>\n",
       "      <td>69.0</td>\n",
       "    </tr>\n",
       "    <tr>\n",
       "      <th>1</th>\n",
       "      <td>2</td>\n",
       "      <td>0=Blood Donor</td>\n",
       "      <td>32</td>\n",
       "      <td>m</td>\n",
       "      <td>38.5</td>\n",
       "      <td>70.3</td>\n",
       "      <td>18.0</td>\n",
       "      <td>24.7</td>\n",
       "      <td>3.9</td>\n",
       "      <td>11.17</td>\n",
       "      <td>4.80</td>\n",
       "      <td>74.0</td>\n",
       "      <td>15.6</td>\n",
       "      <td>76.5</td>\n",
       "    </tr>\n",
       "    <tr>\n",
       "      <th>2</th>\n",
       "      <td>3</td>\n",
       "      <td>0=Blood Donor</td>\n",
       "      <td>32</td>\n",
       "      <td>m</td>\n",
       "      <td>46.9</td>\n",
       "      <td>74.7</td>\n",
       "      <td>36.2</td>\n",
       "      <td>52.6</td>\n",
       "      <td>6.1</td>\n",
       "      <td>8.84</td>\n",
       "      <td>5.20</td>\n",
       "      <td>86.0</td>\n",
       "      <td>33.2</td>\n",
       "      <td>79.3</td>\n",
       "    </tr>\n",
       "    <tr>\n",
       "      <th>3</th>\n",
       "      <td>4</td>\n",
       "      <td>0=Blood Donor</td>\n",
       "      <td>32</td>\n",
       "      <td>m</td>\n",
       "      <td>43.2</td>\n",
       "      <td>52.0</td>\n",
       "      <td>30.6</td>\n",
       "      <td>22.6</td>\n",
       "      <td>18.9</td>\n",
       "      <td>7.33</td>\n",
       "      <td>4.74</td>\n",
       "      <td>80.0</td>\n",
       "      <td>33.8</td>\n",
       "      <td>75.7</td>\n",
       "    </tr>\n",
       "    <tr>\n",
       "      <th>4</th>\n",
       "      <td>5</td>\n",
       "      <td>0=Blood Donor</td>\n",
       "      <td>32</td>\n",
       "      <td>m</td>\n",
       "      <td>39.2</td>\n",
       "      <td>74.1</td>\n",
       "      <td>32.6</td>\n",
       "      <td>24.8</td>\n",
       "      <td>9.6</td>\n",
       "      <td>9.15</td>\n",
       "      <td>4.32</td>\n",
       "      <td>76.0</td>\n",
       "      <td>29.9</td>\n",
       "      <td>68.7</td>\n",
       "    </tr>\n",
       "  </tbody>\n",
       "</table>\n",
       "</div>"
      ],
      "text/plain": [
       "   Unnamed: 0       Category  Age Sex   ALB   ALP   ALT   AST   BIL    CHE  \\\n",
       "0           1  0=Blood Donor   32   m  38.5  52.5   7.7  22.1   7.5   6.93   \n",
       "1           2  0=Blood Donor   32   m  38.5  70.3  18.0  24.7   3.9  11.17   \n",
       "2           3  0=Blood Donor   32   m  46.9  74.7  36.2  52.6   6.1   8.84   \n",
       "3           4  0=Blood Donor   32   m  43.2  52.0  30.6  22.6  18.9   7.33   \n",
       "4           5  0=Blood Donor   32   m  39.2  74.1  32.6  24.8   9.6   9.15   \n",
       "\n",
       "   CHOL   CREA   GGT  PROT  \n",
       "0  3.23  106.0  12.1  69.0  \n",
       "1  4.80   74.0  15.6  76.5  \n",
       "2  5.20   86.0  33.2  79.3  \n",
       "3  4.74   80.0  33.8  75.7  \n",
       "4  4.32   76.0  29.9  68.7  "
      ]
     },
     "execution_count": 2,
     "metadata": {},
     "output_type": "execute_result"
    }
   ],
   "source": [
    "import pandas as pd\n",
    "import numpy as np\n",
    "data=pd.read_csv('../input/hepatitis-c-virus-blood-biomarkers/hcvdat0.csv')\n",
    "data.head()"
   ]
  },
  {
   "cell_type": "code",
   "execution_count": 3,
   "id": "b9f962d5",
   "metadata": {
    "execution": {
     "iopub.execute_input": "2022-10-25T08:24:19.598631Z",
     "iopub.status.busy": "2022-10-25T08:24:19.598233Z",
     "iopub.status.idle": "2022-10-25T08:24:19.631056Z",
     "shell.execute_reply": "2022-10-25T08:24:19.629170Z"
    },
    "papermill": {
     "duration": 0.039911,
     "end_time": "2022-10-25T08:24:19.633213",
     "exception": false,
     "start_time": "2022-10-25T08:24:19.593302",
     "status": "completed"
    },
    "tags": []
   },
   "outputs": [
    {
     "name": "stdout",
     "output_type": "stream",
     "text": [
      "<class 'pandas.core.frame.DataFrame'>\n",
      "RangeIndex: 615 entries, 0 to 614\n",
      "Data columns (total 14 columns):\n",
      " #   Column      Non-Null Count  Dtype  \n",
      "---  ------      --------------  -----  \n",
      " 0   Unnamed: 0  615 non-null    int64  \n",
      " 1   Category    615 non-null    object \n",
      " 2   Age         615 non-null    int64  \n",
      " 3   Sex         615 non-null    object \n",
      " 4   ALB         614 non-null    float64\n",
      " 5   ALP         597 non-null    float64\n",
      " 6   ALT         614 non-null    float64\n",
      " 7   AST         615 non-null    float64\n",
      " 8   BIL         615 non-null    float64\n",
      " 9   CHE         615 non-null    float64\n",
      " 10  CHOL        605 non-null    float64\n",
      " 11  CREA        615 non-null    float64\n",
      " 12  GGT         615 non-null    float64\n",
      " 13  PROT        614 non-null    float64\n",
      "dtypes: float64(10), int64(2), object(2)\n",
      "memory usage: 67.4+ KB\n"
     ]
    }
   ],
   "source": [
    "data.info()"
   ]
  },
  {
   "cell_type": "code",
   "execution_count": 4,
   "id": "15e1a9c4",
   "metadata": {
    "execution": {
     "iopub.execute_input": "2022-10-25T08:24:19.641836Z",
     "iopub.status.busy": "2022-10-25T08:24:19.641463Z",
     "iopub.status.idle": "2022-10-25T08:24:19.660728Z",
     "shell.execute_reply": "2022-10-25T08:24:19.659087Z"
    },
    "papermill": {
     "duration": 0.026225,
     "end_time": "2022-10-25T08:24:19.663085",
     "exception": false,
     "start_time": "2022-10-25T08:24:19.636860",
     "status": "completed"
    },
    "tags": []
   },
   "outputs": [
    {
     "name": "stdout",
     "output_type": "stream",
     "text": [
      "<class 'pandas.core.frame.DataFrame'>\n",
      "RangeIndex: 615 entries, 0 to 614\n",
      "Data columns (total 13 columns):\n",
      " #   Column    Non-Null Count  Dtype  \n",
      "---  ------    --------------  -----  \n",
      " 0   Category  615 non-null    object \n",
      " 1   Age       615 non-null    int64  \n",
      " 2   Sex       615 non-null    object \n",
      " 3   ALB       615 non-null    float64\n",
      " 4   ALP       615 non-null    float64\n",
      " 5   ALT       615 non-null    float64\n",
      " 6   AST       615 non-null    float64\n",
      " 7   BIL       615 non-null    float64\n",
      " 8   CHE       615 non-null    float64\n",
      " 9   CHOL      615 non-null    float64\n",
      " 10  CREA      615 non-null    float64\n",
      " 11  GGT       615 non-null    float64\n",
      " 12  PROT      615 non-null    float64\n",
      "dtypes: float64(10), int64(1), object(2)\n",
      "memory usage: 62.6+ KB\n"
     ]
    }
   ],
   "source": [
    "data=data.drop(['Unnamed: 0'],axis=1)\n",
    "data=data.fillna(method='ffill')\n",
    "data.info()"
   ]
  },
  {
   "cell_type": "code",
   "execution_count": 5,
   "id": "d110c01e",
   "metadata": {
    "execution": {
     "iopub.execute_input": "2022-10-25T08:24:19.671950Z",
     "iopub.status.busy": "2022-10-25T08:24:19.671512Z",
     "iopub.status.idle": "2022-10-25T08:24:20.857681Z",
     "shell.execute_reply": "2022-10-25T08:24:20.856482Z"
    },
    "papermill": {
     "duration": 1.193238,
     "end_time": "2022-10-25T08:24:20.859947",
     "exception": false,
     "start_time": "2022-10-25T08:24:19.666709",
     "status": "completed"
    },
    "tags": []
   },
   "outputs": [
    {
     "name": "stdout",
     "output_type": "stream",
     "text": [
      "<class 'pandas.core.frame.DataFrame'>\n",
      "RangeIndex: 615 entries, 0 to 614\n",
      "Data columns (total 13 columns):\n",
      " #   Column    Non-Null Count  Dtype  \n",
      "---  ------    --------------  -----  \n",
      " 0   Category  615 non-null    int64  \n",
      " 1   Age       615 non-null    int64  \n",
      " 2   Sex       615 non-null    int64  \n",
      " 3   ALB       615 non-null    float64\n",
      " 4   ALP       615 non-null    float64\n",
      " 5   ALT       615 non-null    float64\n",
      " 6   AST       615 non-null    float64\n",
      " 7   BIL       615 non-null    float64\n",
      " 8   CHE       615 non-null    float64\n",
      " 9   CHOL      615 non-null    float64\n",
      " 10  CREA      615 non-null    float64\n",
      " 11  GGT       615 non-null    float64\n",
      " 12  PROT      615 non-null    float64\n",
      "dtypes: float64(10), int64(3)\n",
      "memory usage: 62.6 KB\n"
     ]
    }
   ],
   "source": [
    "from sklearn.preprocessing import LabelEncoder\n",
    "enc=LabelEncoder()\n",
    "data['Sex']=enc.fit_transform(data['Sex'])\n",
    "data['Category']=enc.fit_transform(data['Category'])\n",
    "data.info()"
   ]
  },
  {
   "cell_type": "code",
   "execution_count": 6,
   "id": "1ace2beb",
   "metadata": {
    "execution": {
     "iopub.execute_input": "2022-10-25T08:24:20.870319Z",
     "iopub.status.busy": "2022-10-25T08:24:20.869476Z",
     "iopub.status.idle": "2022-10-25T08:24:20.880276Z",
     "shell.execute_reply": "2022-10-25T08:24:20.878399Z"
    },
    "papermill": {
     "duration": 0.019353,
     "end_time": "2022-10-25T08:24:20.883447",
     "exception": false,
     "start_time": "2022-10-25T08:24:20.864094",
     "status": "completed"
    },
    "tags": []
   },
   "outputs": [
    {
     "data": {
      "text/plain": [
       "array([0, 1, 2, 3, 4])"
      ]
     },
     "execution_count": 6,
     "metadata": {},
     "output_type": "execute_result"
    }
   ],
   "source": [
    "data['Category'].unique()"
   ]
  },
  {
   "cell_type": "code",
   "execution_count": 7,
   "id": "ed5a1253",
   "metadata": {
    "execution": {
     "iopub.execute_input": "2022-10-25T08:24:20.894076Z",
     "iopub.status.busy": "2022-10-25T08:24:20.893729Z",
     "iopub.status.idle": "2022-10-25T08:24:20.906804Z",
     "shell.execute_reply": "2022-10-25T08:24:20.904898Z"
    },
    "papermill": {
     "duration": 0.021473,
     "end_time": "2022-10-25T08:24:20.909202",
     "exception": false,
     "start_time": "2022-10-25T08:24:20.887729",
     "status": "completed"
    },
    "tags": []
   },
   "outputs": [
    {
     "name": "stdout",
     "output_type": "stream",
     "text": [
      "0    533\n",
      "4     30\n",
      "2     24\n",
      "3     21\n",
      "1      7\n",
      "Name: Category, dtype: int64\n"
     ]
    }
   ],
   "source": [
    "#data[data['Category']==0.00]=0\n",
    "#data[data['Category']==0.25]=1\n",
    "#data[data['Category']==0.50]=2\n",
    "#data[data['Category']==0.75]=3\n",
    "#data[data['Category']==1.00]=4\n",
    "print(data['Category'].value_counts())\n",
    "cls_0= data[data['Category']==0]\n",
    "cls_1= data[data['Category']==1]\n",
    "cls_2= data[data['Category']==2]\n",
    "cls_3= data[data['Category']==3]\n",
    "cls_4= data[data['Category']==4]"
   ]
  },
  {
   "cell_type": "code",
   "execution_count": 8,
   "id": "4db4cccb",
   "metadata": {
    "execution": {
     "iopub.execute_input": "2022-10-25T08:24:20.919434Z",
     "iopub.status.busy": "2022-10-25T08:24:20.919089Z",
     "iopub.status.idle": "2022-10-25T08:24:20.936413Z",
     "shell.execute_reply": "2022-10-25T08:24:20.935620Z"
    },
    "papermill": {
     "duration": 0.026602,
     "end_time": "2022-10-25T08:24:20.939713",
     "exception": false,
     "start_time": "2022-10-25T08:24:20.913111",
     "status": "completed"
    },
    "tags": []
   },
   "outputs": [
    {
     "name": "stdout",
     "output_type": "stream",
     "text": [
      "<class 'pandas.core.frame.DataFrame'>\n",
      "Int64Index: 1250 entries, 346 to 598\n",
      "Data columns (total 13 columns):\n",
      " #   Column    Non-Null Count  Dtype  \n",
      "---  ------    --------------  -----  \n",
      " 0   Category  1250 non-null   int64  \n",
      " 1   Age       1250 non-null   int64  \n",
      " 2   Sex       1250 non-null   int64  \n",
      " 3   ALB       1250 non-null   float64\n",
      " 4   ALP       1250 non-null   float64\n",
      " 5   ALT       1250 non-null   float64\n",
      " 6   AST       1250 non-null   float64\n",
      " 7   BIL       1250 non-null   float64\n",
      " 8   CHE       1250 non-null   float64\n",
      " 9   CHOL      1250 non-null   float64\n",
      " 10  CREA      1250 non-null   float64\n",
      " 11  GGT       1250 non-null   float64\n",
      " 12  PROT      1250 non-null   float64\n",
      "dtypes: float64(10), int64(3)\n",
      "memory usage: 136.7 KB\n",
      "[0 1 2 3 4]\n"
     ]
    }
   ],
   "source": [
    "df_class_0_over = cls_0.sample(250, replace=True)\n",
    "df_class_1_over = cls_1.sample(250, replace=True)\n",
    "df_class_2_over = cls_2.sample(250, replace=True)\n",
    "df_class_3_over = cls_3.sample(250, replace=True)\n",
    "df_class_4_over = cls_4.sample(250, replace=True)\n",
    "data = pd.concat([df_class_0_over, df_class_1_over,df_class_2_over,df_class_3_over,df_class_4_over], axis=0)\n",
    "data.info()\n",
    "print(data['Category'].unique())"
   ]
  },
  {
   "cell_type": "code",
   "execution_count": 9,
   "id": "d9f26cb6",
   "metadata": {
    "execution": {
     "iopub.execute_input": "2022-10-25T08:24:20.951711Z",
     "iopub.status.busy": "2022-10-25T08:24:20.951109Z",
     "iopub.status.idle": "2022-10-25T08:24:21.050789Z",
     "shell.execute_reply": "2022-10-25T08:24:21.049345Z"
    },
    "papermill": {
     "duration": 0.109361,
     "end_time": "2022-10-25T08:24:21.053732",
     "exception": false,
     "start_time": "2022-10-25T08:24:20.944371",
     "status": "completed"
    },
    "tags": []
   },
   "outputs": [
    {
     "name": "stdout",
     "output_type": "stream",
     "text": [
      "[0 1 2 3 4]\n"
     ]
    }
   ],
   "source": [
    "y=data['Category']\n",
    "print(y.unique())\n",
    "x=data.drop(['Category'],axis=1)\n",
    "for a in x.columns:\n",
    "    x[a]= (x[a]-x[a].min())/(x[a].max()-x[a].min())\n",
    "data.head()\n",
    "from sklearn.model_selection import train_test_split\n",
    "X_train,X_test,y_train,y_test= train_test_split(x,y,test_size=0.2,stratify=y)"
   ]
  },
  {
   "cell_type": "code",
   "execution_count": 10,
   "id": "1f1686b2",
   "metadata": {
    "execution": {
     "iopub.execute_input": "2022-10-25T08:24:21.063723Z",
     "iopub.status.busy": "2022-10-25T08:24:21.063245Z",
     "iopub.status.idle": "2022-10-25T08:24:21.605163Z",
     "shell.execute_reply": "2022-10-25T08:24:21.604176Z"
    },
    "papermill": {
     "duration": 0.549603,
     "end_time": "2022-10-25T08:24:21.607505",
     "exception": false,
     "start_time": "2022-10-25T08:24:21.057902",
     "status": "completed"
    },
    "tags": []
   },
   "outputs": [
    {
     "data": {
      "text/plain": [
       "XGBClassifier(base_score=0.5, booster='gbtree', callbacks=None,\n",
       "              colsample_bylevel=1, colsample_bynode=1, colsample_bytree=1,\n",
       "              early_stopping_rounds=None, enable_categorical=False,\n",
       "              eval_metric=None, gamma=0, gpu_id=-1, grow_policy='depthwise',\n",
       "              importance_type=None, interaction_constraints='',\n",
       "              learning_rate=0.300000012, max_bin=256, max_cat_to_onehot=4,\n",
       "              max_delta_step=0, max_depth=6, max_leaves=0, min_child_weight=1,\n",
       "              missing=nan, monotone_constraints='()', n_estimators=100,\n",
       "              n_jobs=0, num_parallel_tree=1, objective='multi:softprob',\n",
       "              predictor='auto', random_state=0, reg_alpha=0, ...)"
      ]
     },
     "execution_count": 10,
     "metadata": {},
     "output_type": "execute_result"
    }
   ],
   "source": [
    "from xgboost import XGBClassifier\n",
    "svc_model=XGBClassifier()\n",
    "svc_model.fit(X_train,y_train)"
   ]
  },
  {
   "cell_type": "code",
   "execution_count": 11,
   "id": "35846ffc",
   "metadata": {
    "execution": {
     "iopub.execute_input": "2022-10-25T08:24:21.617498Z",
     "iopub.status.busy": "2022-10-25T08:24:21.617171Z",
     "iopub.status.idle": "2022-10-25T08:24:21.671610Z",
     "shell.execute_reply": "2022-10-25T08:24:21.669969Z"
    },
    "papermill": {
     "duration": 0.06308,
     "end_time": "2022-10-25T08:24:21.674902",
     "exception": false,
     "start_time": "2022-10-25T08:24:21.611822",
     "status": "completed"
    },
    "tags": []
   },
   "outputs": [
    {
     "name": "stdout",
     "output_type": "stream",
     "text": [
      "Training confusion matrix\n",
      "[[200   0   0   0   0]\n",
      " [  0 200   0   0   0]\n",
      " [  0   0 200   0   0]\n",
      " [  0   0   0 200   0]\n",
      " [  0   0   0   0 200]]\n",
      "Testing confusion matrix\n",
      "[[50  0  0  0  0]\n",
      " [ 0 50  0  0  0]\n",
      " [ 0  0 50  0  0]\n",
      " [ 0  0  0 50  0]\n",
      " [ 0  0  0  0 50]]\n",
      "1.0\n",
      "1.0\n",
      "Train set:1000\n",
      "Train Accuracy=100.0%\n",
      "Test set:250\n",
      "Test Accuracy=100.0%\n"
     ]
    }
   ],
   "source": [
    "from sklearn.metrics import accuracy_score, confusion_matrix\n",
    "predictions= svc_model .predict(X_train)\n",
    "percentage=svc_model.score(X_train,y_train)\n",
    "res=confusion_matrix(y_train,predictions)\n",
    "print(\"Training confusion matrix\")\n",
    "print(res)\n",
    "predictions= svc_model .predict(X_test)\n",
    "train_percentage=svc_model.score(X_train,y_train)\n",
    "test_percentage=svc_model.score(X_test,y_test)\n",
    "res=confusion_matrix(y_test,predictions)\n",
    "print(\"Testing confusion matrix\")\n",
    "print(res)\n",
    "# check the accuracy on the training set\n",
    "print(svc_model.score(X_train, y_train))\n",
    "print(svc_model.score(X_test, y_test))\n",
    "print(f\"Train set:{len(X_train)}\")\n",
    "print(f\"Train Accuracy={train_percentage*100}%\")\n",
    "print(f\"Test set:{len(X_test)}\")\n",
    "print(f\"Test Accuracy={test_percentage*100}%\")"
   ]
  }
 ],
 "metadata": {
  "kernelspec": {
   "display_name": "Python 3",
   "language": "python",
   "name": "python3"
  },
  "language_info": {
   "codemirror_mode": {
    "name": "ipython",
    "version": 3
   },
   "file_extension": ".py",
   "mimetype": "text/x-python",
   "name": "python",
   "nbconvert_exporter": "python",
   "pygments_lexer": "ipython3",
   "version": "3.7.12"
  },
  "papermill": {
   "default_parameters": {},
   "duration": 10.790137,
   "end_time": "2022-10-25T08:24:22.504138",
   "environment_variables": {},
   "exception": null,
   "input_path": "__notebook__.ipynb",
   "output_path": "__notebook__.ipynb",
   "parameters": {},
   "start_time": "2022-10-25T08:24:11.714001",
   "version": "2.3.4"
  }
 },
 "nbformat": 4,
 "nbformat_minor": 5
}
